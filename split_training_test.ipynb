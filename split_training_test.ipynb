{
 "cells": [
  {
   "cell_type": "markdown",
   "metadata": {},
   "source": [
    "# Split the dataframe into two random samples (80% and 20%) for training and testing:\n",
    "\n",
    "For generating training and test data sets, we shuffled all the data, and used 80% of the data for training and the remaining 20% for test set.\n",
    "\n",
    "\n"
   ]
  },
  {
   "cell_type": "markdown",
   "metadata": {},
   "source": [
    "## Setup:"
   ]
  },
  {
   "cell_type": "code",
   "execution_count": 14,
   "metadata": {
    "collapsed": true
   },
   "outputs": [],
   "source": [
    "import pandas as pd\n",
    "import numpy as np\n",
    "import re\n",
    "import nltk\n",
    "import string\n",
    "import unicodedata"
   ]
  },
  {
   "cell_type": "code",
   "execution_count": 15,
   "metadata": {
    "collapsed": true
   },
   "outputs": [],
   "source": [
    "CURRENT_YEAR = 2018"
   ]
  },
  {
   "cell_type": "markdown",
   "metadata": {},
   "source": [
    "## Import data:"
   ]
  },
  {
   "cell_type": "code",
   "execution_count": 16,
   "metadata": {
    "collapsed": false
   },
   "outputs": [],
   "source": [
    "df_authors = pd.read_csv(\"./data/data_collected/Author.csv\")[0:]\n",
    "df_affiliations = pd.read_csv(\"./data/data_collected/Affiliation.csv\")[0:]\n",
    "df_abstracts = pd.read_csv(\"./data/data_collected/Abstract.csv\")[0:]\n",
    "df_titles = pd.read_csv(\"./data/data_collected/Title.csv\")[0:]"
   ]
  },
  {
   "cell_type": "code",
   "execution_count": 17,
   "metadata": {
    "collapsed": false
   },
   "outputs": [],
   "source": [
    "df_authors['citations_average'] = df_authors.citations/(CURRENT_YEAR - df_authors.year)\n",
    "df_affiliations['citations_average'] = df_affiliations.citations/(CURRENT_YEAR - df_affiliations.year)\n",
    "df_abstracts['citations_average'] = df_abstracts.citations/(CURRENT_YEAR - df_abstracts.year)\n",
    "df_titles['citations_average'] = df_titles.citations/(CURRENT_YEAR - df_titles.year)"
   ]
  },
  {
   "cell_type": "markdown",
   "metadata": {},
   "source": [
    "## Split data:"
   ]
  },
  {
   "cell_type": "code",
   "execution_count": 18,
   "metadata": {
    "collapsed": false
   },
   "outputs": [],
   "source": [
    "msk = np.random.rand(len(df_authors)) < 0.6\n",
    "\n",
    "train_authors = df_authors[msk]\n",
    "test_authors = df_authors[~msk]\n",
    "\n",
    "train_affiliations = df_affiliations[msk]\n",
    "test_affiliations = df_affiliations[~msk]\n",
    "\n",
    "train_abstracts = df_abstracts[msk]\n",
    "test_abstracts = df_abstracts[~msk]\n",
    "\n",
    "train_titles = df_titles[msk]\n",
    "test_titles = df_titles[~msk]"
   ]
  },
  {
   "cell_type": "markdown",
   "metadata": {},
   "source": [
    "## Write output to a CSV file:\n"
   ]
  },
  {
   "cell_type": "code",
   "execution_count": 19,
   "metadata": {
    "collapsed": false
   },
   "outputs": [],
   "source": [
    "train_authors.to_csv('./data/data_processed/Author_training.csv', index=False)\n",
    "test_authors.to_csv('./data/data_processed/Author_test.csv', index=False)\n",
    "\n",
    "train_affiliations.to_csv('./data/data_processed/Affiliation_training.csv', index=False)\n",
    "test_affiliations.to_csv('./data/data_processed/Affiliation_test.csv', index=False)\n",
    "\n",
    "train_abstracts.to_csv('./data/data_processed/Abstract_training.csv', index=False)\n",
    "test_abstracts.to_csv('./data/data_processed/Abstract_test.csv', index=False)\n",
    "\n",
    "train_titles.to_csv('./data/data_processed/Title_training.csv', index=False)\n",
    "test_titles.to_csv('./data/data_processed/Title_test.csv', index=False)"
   ]
  }
 ],
 "metadata": {
  "kernelspec": {
   "display_name": "Python 2",
   "language": "python",
   "name": "python2"
  },
  "language_info": {
   "codemirror_mode": {
    "name": "ipython",
    "version": 2
   },
   "file_extension": ".py",
   "mimetype": "text/x-python",
   "name": "python",
   "nbconvert_exporter": "python",
   "pygments_lexer": "ipython2",
   "version": "2.7.12"
  }
 },
 "nbformat": 4,
 "nbformat_minor": 0
}
