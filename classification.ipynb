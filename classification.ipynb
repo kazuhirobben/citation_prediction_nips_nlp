{
 "cells": [
  {
   "cell_type": "markdown",
   "metadata": {},
   "source": [
    "# Classification\n",
    "\n",
    "We use a variety of models from `Scikit-learn` package for implementing the classifier. The inputs to this classfication problem are:\n",
    "\n",
    "#### Training dataset: \n",
    "* `Author_train_predicted.csv` \n",
    "* `Affiliation_train_predicted.csv`\n",
    "* `Title_training_predicted.csv`\n",
    "* `Abstract_training_predicted_[mode].csv`\n",
    "\n",
    "\n",
    "#### Test dataset:\n",
    "* `Author_test_predicted.csv`\n",
    "* `Affiliation_test_predicted.csv` \n",
    "* `Title_test_predicted.csv`\n",
    "* `Abstract_test_predicted_[method].csv`\n",
    "\n",
    "where `mode` can be `nltk`, `textblob`, or `rake`."
   ]
  },
  {
   "cell_type": "markdown",
   "metadata": {},
   "source": [
    "## Setup"
   ]
  },
  {
   "cell_type": "code",
   "execution_count": 4,
   "metadata": {
    "collapsed": true
   },
   "outputs": [],
   "source": [
    "# data analysis and wrangling\n",
    "import pandas as pd\n",
    "import numpy as np\n",
    "import random as rnd\n",
    "\n",
    "# visualization\n",
    "import seaborn as sns\n",
    "import matplotlib.pyplot as plt\n",
    "%matplotlib inline\n",
    "\n",
    "# machine learning\n",
    "from sklearn.linear_model import LogisticRegression\n",
    "from sklearn.svm import SVC, LinearSVC\n",
    "from sklearn.ensemble import RandomForestClassifier , GradientBoostingClassifier, AdaBoostClassifier\n",
    "from sklearn.neighbors import KNeighborsClassifier\n",
    "from sklearn.naive_bayes import GaussianNB\n",
    "from sklearn.linear_model import Perceptron\n",
    "from sklearn.linear_model import SGDClassifier\n",
    "from sklearn.tree import DecisionTreeClassifier\n",
    "from xgboost import XGBClassifier\n",
    "\n",
    "\n",
    "from sklearn.metrics import accuracy_score"
   ]
  },
  {
   "cell_type": "markdown",
   "metadata": {},
   "source": [
    "As we are dealing with continuous labels, we define a map function to convert these labels to discrete (categorical) labels."
   ]
  },
  {
   "cell_type": "code",
   "execution_count": 5,
   "metadata": {
    "collapsed": false
   },
   "outputs": [],
   "source": [
    "# def map_label(x):\n",
    "#     if x<2:\n",
    "#         return 0\n",
    "#     elif x < 6:\n",
    "#         return 1\n",
    "#     else:\n",
    "#         return 2\n",
    "intervals = [0.5, 1, 2, 3 , 4, 5, 6 , 7, 10, 15, 20, 30, 40]\n",
    "labels = [0,1,2,3,4,5,6,7,8,9,10,11,12,13]\n",
    "def map_label(x):\n",
    "    for i in xrange(len(intervals)):\n",
    "        if x<intervals[i]:\n",
    "            return labels[i]\n",
    "    return labels[-1]"
   ]
  },
  {
   "cell_type": "markdown",
   "metadata": {},
   "source": [
    "## Import training data"
   ]
  },
  {
   "cell_type": "code",
   "execution_count": 6,
   "metadata": {
    "collapsed": false
   },
   "outputs": [
    {
     "data": {
      "text/html": [
       "<div>\n",
       "<style scoped>\n",
       "    .dataframe tbody tr th:only-of-type {\n",
       "        vertical-align: middle;\n",
       "    }\n",
       "\n",
       "    .dataframe tbody tr th {\n",
       "        vertical-align: top;\n",
       "    }\n",
       "\n",
       "    .dataframe thead th {\n",
       "        text-align: right;\n",
       "    }\n",
       "</style>\n",
       "<table border=\"1\" class=\"dataframe\">\n",
       "  <thead>\n",
       "    <tr style=\"text-align: right;\">\n",
       "      <th></th>\n",
       "      <th>Authors_score</th>\n",
       "      <th>Affiliations_score</th>\n",
       "      <th>Title_score</th>\n",
       "      <th>Abstract_score</th>\n",
       "    </tr>\n",
       "  </thead>\n",
       "  <tbody>\n",
       "    <tr>\n",
       "      <th>0</th>\n",
       "      <td>5.612903</td>\n",
       "      <td>2.806452</td>\n",
       "      <td>180.902423</td>\n",
       "      <td>187.447644</td>\n",
       "    </tr>\n",
       "    <tr>\n",
       "      <th>1</th>\n",
       "      <td>0.161290</td>\n",
       "      <td>0.161290</td>\n",
       "      <td>96.113563</td>\n",
       "      <td>83.991048</td>\n",
       "    </tr>\n",
       "    <tr>\n",
       "      <th>2</th>\n",
       "      <td>7.417339</td>\n",
       "      <td>1.451613</td>\n",
       "      <td>24.349512</td>\n",
       "      <td>116.162506</td>\n",
       "    </tr>\n",
       "    <tr>\n",
       "      <th>3</th>\n",
       "      <td>0.709677</td>\n",
       "      <td>0.709677</td>\n",
       "      <td>537.814055</td>\n",
       "      <td>136.688660</td>\n",
       "    </tr>\n",
       "    <tr>\n",
       "      <th>4</th>\n",
       "      <td>0.000000</td>\n",
       "      <td>0.000000</td>\n",
       "      <td>16.038629</td>\n",
       "      <td>61.969787</td>\n",
       "    </tr>\n",
       "  </tbody>\n",
       "</table>\n",
       "</div>"
      ],
      "text/plain": [
       "   Authors_score  Affiliations_score  Title_score  Abstract_score\n",
       "0       5.612903            2.806452   180.902423      187.447644\n",
       "1       0.161290            0.161290    96.113563       83.991048\n",
       "2       7.417339            1.451613    24.349512      116.162506\n",
       "3       0.709677            0.709677   537.814055      136.688660\n",
       "4       0.000000            0.000000    16.038629       61.969787"
      ]
     },
     "execution_count": 6,
     "metadata": {},
     "output_type": "execute_result"
    }
   ],
   "source": [
    "df_author = pd.read_csv(\"./data/data_processed/Author_training_predicted.csv\")[0:]\n",
    "df_affiliation = pd.read_csv(\"./data/data_processed/Affiliation_training_predicted.csv\")[0:]\n",
    "df_title = pd.read_csv(\"./data/data_processed/Title_training_predicted.csv\")[0:]\n",
    "\n",
    "mode = 1 # 1 for NLTK, 2 for  TextBlob, 3 for RAKE\n",
    "if mode == 1:\n",
    "    df_abstract = pd.read_csv(\"./data/data_processed/Abstract_training_predicted_nltk.csv\")[0:]\n",
    "elif mode == 2:\n",
    "    df_abstract = pd.read_csv(\"./data/data_processed/Author_training_predicted_textblob.csv\")[0:]\n",
    "elif mode == 3:\n",
    "    df_abstract = pd.read_csv(\"./data/data_processed/Abstract_training_predicted_rake.csv\")[0:]\n",
    "else:\n",
    "    print('Wrong mode!!')\n",
    "    \n",
    "X_train = df_author.copy()\n",
    "max_num_names = len(X_train.columns) -2\n",
    "X_train.drop(['Author{x}'.format(x=i) for i in range(0,max_num_names)], axis=1, inplace=True)\n",
    "X_train['Authors_score'] = X_train['predicted_citations']\n",
    "X_train.drop(['predicted_citations'], axis=1, inplace=True)\n",
    "\n",
    "Y_train = df_author[\"citations_average\"].apply(lambda x: map_label(x))\n",
    "\n",
    "X_train['Affiliations_score'] = df_affiliation['predicted_citations']\n",
    "X_train['Title_score'] = df_title['predicted_citations']\n",
    "X_train['Abstract_score'] = df_abstract['predicted_citations'].astype(np.float64)\n",
    "\n",
    "Xtrain = X_train.copy()\n",
    "\n",
    "X_train.drop(\"citations_average\", axis=1, inplace=True)\n",
    "\n",
    "X_train.head()"
   ]
  },
  {
   "cell_type": "code",
   "execution_count": 7,
   "metadata": {
    "collapsed": false
   },
   "outputs": [
    {
     "data": {
      "text/html": [
       "<div>\n",
       "<style scoped>\n",
       "    .dataframe tbody tr th:only-of-type {\n",
       "        vertical-align: middle;\n",
       "    }\n",
       "\n",
       "    .dataframe tbody tr th {\n",
       "        vertical-align: top;\n",
       "    }\n",
       "\n",
       "    .dataframe thead th {\n",
       "        text-align: right;\n",
       "    }\n",
       "</style>\n",
       "<table border=\"1\" class=\"dataframe\">\n",
       "  <thead>\n",
       "    <tr style=\"text-align: right;\">\n",
       "      <th></th>\n",
       "      <th>Authors_score</th>\n",
       "      <th>Affiliations_score</th>\n",
       "      <th>Title_score</th>\n",
       "      <th>Abstract_score</th>\n",
       "    </tr>\n",
       "  </thead>\n",
       "  <tbody>\n",
       "    <tr>\n",
       "      <th>count</th>\n",
       "      <td>4368.000000</td>\n",
       "      <td>4368.000000</td>\n",
       "      <td>4368.000000</td>\n",
       "      <td>4368.000000</td>\n",
       "    </tr>\n",
       "    <tr>\n",
       "      <th>mean</th>\n",
       "      <td>143.089876</td>\n",
       "      <td>281.742956</td>\n",
       "      <td>172.620120</td>\n",
       "      <td>167.215480</td>\n",
       "    </tr>\n",
       "    <tr>\n",
       "      <th>std</th>\n",
       "      <td>464.659888</td>\n",
       "      <td>2007.889477</td>\n",
       "      <td>175.266027</td>\n",
       "      <td>77.916524</td>\n",
       "    </tr>\n",
       "    <tr>\n",
       "      <th>min</th>\n",
       "      <td>0.000000</td>\n",
       "      <td>0.000000</td>\n",
       "      <td>0.000000</td>\n",
       "      <td>0.000000</td>\n",
       "    </tr>\n",
       "    <tr>\n",
       "      <th>25%</th>\n",
       "      <td>2.000000</td>\n",
       "      <td>1.178030</td>\n",
       "      <td>48.651371</td>\n",
       "      <td>110.714344</td>\n",
       "    </tr>\n",
       "    <tr>\n",
       "      <th>50%</th>\n",
       "      <td>11.225000</td>\n",
       "      <td>4.000000</td>\n",
       "      <td>95.591758</td>\n",
       "      <td>157.474776</td>\n",
       "    </tr>\n",
       "    <tr>\n",
       "      <th>75%</th>\n",
       "      <td>75.020527</td>\n",
       "      <td>13.568182</td>\n",
       "      <td>269.559422</td>\n",
       "      <td>213.066328</td>\n",
       "    </tr>\n",
       "    <tr>\n",
       "      <th>max</th>\n",
       "      <td>8173.600000</td>\n",
       "      <td>48312.506502</td>\n",
       "      <td>1073.033586</td>\n",
       "      <td>529.521645</td>\n",
       "    </tr>\n",
       "  </tbody>\n",
       "</table>\n",
       "</div>"
      ],
      "text/plain": [
       "       Authors_score  Affiliations_score  Title_score  Abstract_score\n",
       "count    4368.000000         4368.000000  4368.000000     4368.000000\n",
       "mean      143.089876          281.742956   172.620120      167.215480\n",
       "std       464.659888         2007.889477   175.266027       77.916524\n",
       "min         0.000000            0.000000     0.000000        0.000000\n",
       "25%         2.000000            1.178030    48.651371      110.714344\n",
       "50%        11.225000            4.000000    95.591758      157.474776\n",
       "75%        75.020527           13.568182   269.559422      213.066328\n",
       "max      8173.600000        48312.506502  1073.033586      529.521645"
      ]
     },
     "execution_count": 7,
     "metadata": {},
     "output_type": "execute_result"
    }
   ],
   "source": [
    "X_train.describe()"
   ]
  },
  {
   "cell_type": "code",
   "execution_count": 8,
   "metadata": {
    "collapsed": false
   },
   "outputs": [
    {
     "data": {
      "text/plain": [
       "count    4368.000000\n",
       "mean       12.729096\n",
       "std        53.212139\n",
       "min         0.000000\n",
       "25%         1.000000\n",
       "50%         3.500000\n",
       "75%         9.383102\n",
       "max      2043.400000\n",
       "Name: citations_average, dtype: float64"
      ]
     },
     "execution_count": 8,
     "metadata": {},
     "output_type": "execute_result"
    }
   ],
   "source": [
    "df_author[\"citations_average\"].describe()"
   ]
  },
  {
   "cell_type": "code",
   "execution_count": 9,
   "metadata": {
    "collapsed": false
   },
   "outputs": [
    {
     "name": "stdout",
     "output_type": "stream",
     "text": [
      "In labels for test data:\n",
      "('number of 0s', 598, 'number of 1s', 383, 'number of 2s', 591)\n"
     ]
    }
   ],
   "source": [
    "labels_list = list(Y_train)\n",
    "print \"In labels for test data:\"\n",
    "print('number of 0s', labels_list.count(0), 'number of 1s', labels_list.count(1), \n",
    "      'number of 2s', labels_list.count(2))"
   ]
  },
  {
   "cell_type": "markdown",
   "metadata": {},
   "source": [
    "## Import test data\n",
    "\n"
   ]
  },
  {
   "cell_type": "code",
   "execution_count": 10,
   "metadata": {
    "collapsed": false
   },
   "outputs": [
    {
     "data": {
      "text/html": [
       "<div>\n",
       "<style scoped>\n",
       "    .dataframe tbody tr th:only-of-type {\n",
       "        vertical-align: middle;\n",
       "    }\n",
       "\n",
       "    .dataframe tbody tr th {\n",
       "        vertical-align: top;\n",
       "    }\n",
       "\n",
       "    .dataframe thead th {\n",
       "        text-align: right;\n",
       "    }\n",
       "</style>\n",
       "<table border=\"1\" class=\"dataframe\">\n",
       "  <thead>\n",
       "    <tr style=\"text-align: right;\">\n",
       "      <th></th>\n",
       "      <th>Authors_score</th>\n",
       "      <th>Affiliations_score</th>\n",
       "      <th>Title_score</th>\n",
       "      <th>Abstract_score</th>\n",
       "    </tr>\n",
       "  </thead>\n",
       "  <tbody>\n",
       "    <tr>\n",
       "      <th>0</th>\n",
       "      <td>3.032258</td>\n",
       "      <td>3.032258</td>\n",
       "      <td>342.188738</td>\n",
       "      <td>226.145507</td>\n",
       "    </tr>\n",
       "    <tr>\n",
       "      <th>1</th>\n",
       "      <td>0.032258</td>\n",
       "      <td>0.032258</td>\n",
       "      <td>306.043302</td>\n",
       "      <td>42.464439</td>\n",
       "    </tr>\n",
       "    <tr>\n",
       "      <th>2</th>\n",
       "      <td>2.129032</td>\n",
       "      <td>2.129032</td>\n",
       "      <td>763.662084</td>\n",
       "      <td>308.769021</td>\n",
       "    </tr>\n",
       "    <tr>\n",
       "      <th>3</th>\n",
       "      <td>31.176267</td>\n",
       "      <td>2.354839</td>\n",
       "      <td>34.610457</td>\n",
       "      <td>114.649391</td>\n",
       "    </tr>\n",
       "    <tr>\n",
       "      <th>4</th>\n",
       "      <td>8.129032</td>\n",
       "      <td>8.129032</td>\n",
       "      <td>698.882140</td>\n",
       "      <td>215.310316</td>\n",
       "    </tr>\n",
       "  </tbody>\n",
       "</table>\n",
       "</div>"
      ],
      "text/plain": [
       "   Authors_score  Affiliations_score  Title_score  Abstract_score\n",
       "0       3.032258            3.032258   342.188738      226.145507\n",
       "1       0.032258            0.032258   306.043302       42.464439\n",
       "2       2.129032            2.129032   763.662084      308.769021\n",
       "3      31.176267            2.354839    34.610457      114.649391\n",
       "4       8.129032            8.129032   698.882140      215.310316"
      ]
     },
     "execution_count": 10,
     "metadata": {},
     "output_type": "execute_result"
    }
   ],
   "source": [
    "df_author = pd.read_csv(\"./data/data_processed/Author_test_predicted.csv\")[0:]\n",
    "df_affiliation = pd.read_csv(\"./data/data_processed/Affiliation_test_predicted.csv\")[0:]\n",
    "df_title = pd.read_csv(\"./data/data_processed/Title_test_predicted.csv\")[0:]\n",
    "\n",
    "mode = 1 # 1 for NLTK, 2 for  TextBlob, 3 for RAKE\n",
    "if mode == 1:\n",
    "    df_abstract = pd.read_csv(\"./data/data_processed/Abstract_test_predicted_nltk.csv\")[0:]\n",
    "elif mode == 2:\n",
    "    df_abstract = pd.read_csv(\"./data/data_processed/Author_test_predicted_textblob.csv\")[0:]\n",
    "elif mode == 3:\n",
    "    df_abstract = pd.read_csv(\"./data/data_processed/Abstract_test_predicted_rake.csv\")[0:]\n",
    "else:\n",
    "    print('Wrong mode!!')\n",
    "\n",
    "X_test = df_author.copy()\n",
    "max_num_names = len(X_test.columns) -2\n",
    "X_test.drop(['Author{x}'.format(x=i) for i in range(0,max_num_names)], axis=1, inplace=True)\n",
    "X_test['Authors_score'] = X_test['predicted_citations']\n",
    "X_test.drop(['predicted_citations'], axis=1, inplace=True)\n",
    "\n",
    "Y_test = df_author[\"citations_average\"].apply(lambda x: map_label(x))\n",
    "\n",
    "X_test['Affiliations_score'] = df_affiliation['predicted_citations']\n",
    "X_test['Title_score'] = df_title['predicted_citations']\n",
    "X_test['Abstract_score'] = df_abstract['predicted_citations'].astype(np.float64)\n",
    "\n",
    "Xtest = X_test.copy()\n",
    "\n",
    "X_test.drop(\"citations_average\", axis=1, inplace=True)\n",
    "\n",
    "\n",
    "X_test.head()"
   ]
  },
  {
   "cell_type": "code",
   "execution_count": 11,
   "metadata": {
    "collapsed": false
   },
   "outputs": [
    {
     "data": {
      "text/plain": [
       "((4368, 4), (4368,), (2872, 4), (2872,))"
      ]
     },
     "execution_count": 11,
     "metadata": {},
     "output_type": "execute_result"
    }
   ],
   "source": [
    "X_train.shape, Y_train.shape, X_test.shape, Y_test.shape"
   ]
  },
  {
   "cell_type": "code",
   "execution_count": 12,
   "metadata": {
    "collapsed": false
   },
   "outputs": [
    {
     "data": {
      "text/plain": [
       "count    2872.000000\n",
       "mean       14.270861\n",
       "std       112.251230\n",
       "min         0.000000\n",
       "25%         1.000000\n",
       "50%         3.333333\n",
       "75%         9.000000\n",
       "max      5289.333333\n",
       "Name: citations_average, dtype: float64"
      ]
     },
     "execution_count": 12,
     "metadata": {},
     "output_type": "execute_result"
    }
   ],
   "source": [
    "df_author[\"citations_average\"].describe()"
   ]
  },
  {
   "cell_type": "code",
   "execution_count": 13,
   "metadata": {
    "collapsed": false
   },
   "outputs": [
    {
     "name": "stdout",
     "output_type": "stream",
     "text": [
      "In labels for training data:\n",
      "('number of 0s', 598)\n",
      "('number of 1s', 383)\n",
      "('number of 2s', 591)\n",
      "('number of 3s', 405)\n",
      "('number of 4s', 319)\n",
      "('number of 5s', 248)\n",
      "('number of 6s', 199)\n",
      "('number of 7s', 178)\n",
      "('number of 8s', 412)\n",
      "('number of 9s', 336)\n",
      "('number of 10s', 157)\n",
      "('number of 11s', 190)\n",
      "('number of 12s', 94)\n",
      "('number of 13s', 258)\n",
      "In labels for test data:\n",
      "('number of 0s', 424)\n",
      "('number of 1s', 235)\n",
      "('number of 2s', 393)\n",
      "('number of 3s', 279)\n",
      "('number of 4s', 220)\n",
      "('number of 5s', 156)\n",
      "('number of 6s', 151)\n",
      "('number of 7s', 116)\n",
      "('number of 8s', 223)\n",
      "('number of 9s', 217)\n",
      "('number of 10s', 106)\n",
      "('number of 11s', 111)\n",
      "('number of 12s', 68)\n",
      "('number of 13s', 173)\n"
     ]
    }
   ],
   "source": [
    "labels_list = list(Y_train)\n",
    "print \"In labels for training data:\"\n",
    "for i in labels:\n",
    "    print('number of {t}s'.format(t=i), labels_list.count(i))\n",
    "labels_list = list(Y_test)\n",
    "print \"In labels for test data:\"\n",
    "for i in labels:\n",
    "    print('number of {t}s'.format(t=i), labels_list.count(i))"
   ]
  },
  {
   "cell_type": "code",
   "execution_count": 14,
   "metadata": {
    "collapsed": false
   },
   "outputs": [
    {
     "name": "stderr",
     "output_type": "stream",
     "text": [
      "/Users/Mohammad/anaconda/lib/python2.7/site-packages/pandas/core/computation/check.py:17: UserWarning: The installed version of numexpr 2.4.4 is not supported in pandas and will be not be used\n",
      "The minimum supported version is 2.4.6\n",
      "\n",
      "  ver=ver, min_ver=_MIN_NUMEXPR_VERSION), UserWarning)\n"
     ]
    },
    {
     "data": {
      "text/plain": [
       "<matplotlib.axes._subplots.AxesSubplot at 0x114cb5cd0>"
      ]
     },
     "execution_count": 14,
     "metadata": {},
     "output_type": "execute_result"
    },
    {
     "data": {
      "image/png": "[encoded data removed]",
      "text/plain": [
       "<matplotlib.figure.Figure at 0x114cb5d50>"
      ]
     },
     "metadata": {},
     "output_type": "display_data"
    }
   ],
   "source": [
    "colormap = plt.cm.RdBu\n",
    "plt.figure(figsize=(14,12))\n",
    "plt.title('Pearson Correlation of Features', y=1.05, size=15)\n",
    "sns.heatmap(X_train.astype(float).corr(),linewidths=0.1,vmax=1.0, \n",
    "            square=True, cmap=colormap, linecolor='white', annot=True)"
   ]
  },
  {
   "cell_type": "code",
   "execution_count": 15,
   "metadata": {
    "collapsed": false
   },
   "outputs": [
    {
     "data": {
      "text/plain": [
       "<matplotlib.axes._subplots.AxesSubplot at 0x11700b450>"
      ]
     },
     "execution_count": 15,
     "metadata": {},
     "output_type": "execute_result"
    },
    {
     "data": {
      "image/png": "[encoded data removed]",
      "text/plain": [
       "<matplotlib.figure.Figure at 0x11700b590>"
      ]
     },
     "metadata": {},
     "output_type": "display_data"
    }
   ],
   "source": [
    "colormap = plt.cm.RdBu\n",
    "plt.figure(figsize=(14,12))\n",
    "plt.title('Pearson Correlation of Features and Normalized Citations, training dataset', y=1.05, size=15)\n",
    "sns.heatmap(Xtrain.astype(float).corr(),linewidths=0.1,vmax=1.0, \n",
    "            square=True, cmap=colormap, linecolor='white', annot=True)"
   ]
  },
  {
   "cell_type": "code",
   "execution_count": 16,
   "metadata": {
    "collapsed": false
   },
   "outputs": [
    {
     "data": {
      "text/plain": [
       "<matplotlib.axes._subplots.AxesSubplot at 0x116005d90>"
      ]
     },
     "execution_count": 16,
     "metadata": {},
     "output_type": "execute_result"
    },
    {
     "data": {
      "image/png": "[encoded data removed]",
      "text/plain": [
       "<matplotlib.figure.Figure at 0x11608f350>"
      ]
     },
     "metadata": {},
     "output_type": "display_data"
    }
   ],
   "source": [
    "colormap = plt.cm.RdBu\n",
    "plt.figure(figsize=(14,12))\n",
    "plt.title('Pearson Correlation of Features', y=1.05, size=15)\n",
    "sns.heatmap(X_test.astype(float).corr(),linewidths=0.1,vmax=1.0, \n",
    "            square=True, cmap=colormap, linecolor='white', annot=True)"
   ]
  },
  {
   "cell_type": "code",
   "execution_count": 17,
   "metadata": {
    "collapsed": false
   },
   "outputs": [
    {
     "data": {
      "text/plain": [
       "<matplotlib.axes._subplots.AxesSubplot at 0x114bebe10>"
      ]
     },
     "execution_count": 17,
     "metadata": {},
     "output_type": "execute_result"
    },
    {
     "data": {
      "image/png": "[encoded data removed]",
      "text/plain": [
       "<matplotlib.figure.Figure at 0x11681b7d0>"
      ]
     },
     "metadata": {},
     "output_type": "display_data"
    }
   ],
   "source": [
    "colormap = plt.cm.RdBu\n",
    "plt.figure(figsize=(14,12))\n",
    "plt.title('Pearson Correlation of Features and Normalized Citations', y=1.05, size=15)\n",
    "sns.heatmap(Xtest.astype(float).corr(),linewidths=0.1,vmax=1.0, \n",
    "            square=True, cmap=colormap, linecolor='white', annot=True)"
   ]
  },
  {
   "cell_type": "code",
   "execution_count": 18,
   "metadata": {
    "collapsed": true
   },
   "outputs": [],
   "source": [
    "X_train_labeled = X_train.copy()\n",
    "X_train_labeled['Label'] = Y_train\n",
    "\n",
    "X_test_labeled = X_test.copy()\n",
    "X_test_labeled['Label'] = Y_test"
   ]
  },
  {
   "cell_type": "code",
   "execution_count": 19,
   "metadata": {
    "collapsed": false
   },
   "outputs": [
    {
     "data": {
      "text/plain": [
       "<matplotlib.axes._subplots.AxesSubplot at 0x1169c7d50>"
      ]
     },
     "execution_count": 19,
     "metadata": {},
     "output_type": "execute_result"
    },
    {
     "data": {
      "image/png": "[encoded data removed]",
      "text/plain": [
       "<matplotlib.figure.Figure at 0x1169c7c50>"
      ]
     },
     "metadata": {},
     "output_type": "display_data"
    }
   ],
   "source": [
    "colormap = plt.cm.RdBu\n",
    "plt.figure(figsize=(14,12))\n",
    "plt.title('Pearson Correlation of Features and Labels, training dataset', y=1.05, size=15)\n",
    "sns.heatmap(X_train_labeled.astype(float).corr(),linewidths=0.1,vmax=1.0, \n",
    "            square=True, cmap=colormap, linecolor='white', annot=True)"
   ]
  },
  {
   "cell_type": "code",
   "execution_count": 20,
   "metadata": {
    "collapsed": false
   },
   "outputs": [
    {
     "data": {
      "text/plain": [
       "<matplotlib.axes._subplots.AxesSubplot at 0x103eb7d50>"
      ]
     },
     "execution_count": 20,
     "metadata": {},
     "output_type": "execute_result"
    },
    {
     "data": {
      "image/png": "[encoded data removed]",
      "text/plain": [
       "<matplotlib.figure.Figure at 0x103eb7710>"
      ]
     },
     "metadata": {},
     "output_type": "display_data"
    }
   ],
   "source": [
    "colormap = plt.cm.RdBu\n",
    "plt.figure(figsize=(14,12))\n",
    "plt.title('Pearson Correlation of Features and Labels, test dataset', y=1.05, size=15)\n",
    "sns.heatmap(X_test_labeled.astype(float).corr(),linewidths=0.1,vmax=1.0, \n",
    "            square=True, cmap=colormap, linecolor='white', annot=True)"
   ]
  },
  {
   "cell_type": "markdown",
   "metadata": {},
   "source": [
    "## Classifiers\n",
    "We consider a wide range of classifiers as follows:"
   ]
  },
  {
   "cell_type": "markdown",
   "metadata": {},
   "source": [
    "### 1.Dumb Classifier"
   ]
  },
  {
   "cell_type": "code",
   "execution_count": 21,
   "metadata": {
    "collapsed": false
   },
   "outputs": [
    {
     "name": "stdout",
     "output_type": "stream",
     "text": [
      "(13.69, 14.76)\n"
     ]
    }
   ],
   "source": [
    "labels_list = list(Y_train)\n",
    "l = [labels_list.count(i) for i in labels]\n",
    "maximizer_label = l.index(max(l))\n",
    "Y_pred_train = Y_train.copy()\n",
    "for label in labels:\n",
    "    Y_pred_train = Y_pred_train.replace(label,maximizer_label)\n",
    "acc_train_dumb = round(accuracy_score(Y_pred_train, Y_train) * 100, 2)\n",
    "Y_pred_test = Y_test.copy()\n",
    "for label in labels:\n",
    "    Y_pred_test = Y_pred_test.replace(label,maximizer_label)\n",
    "\n",
    "acc_test_dumb = round(accuracy_score(Y_pred_test, Y_test) * 100, 2)\n",
    "print(acc_train_dumb, acc_test_dumb)"
   ]
  },
  {
   "cell_type": "markdown",
   "metadata": {},
   "source": [
    "### 2. Logistic Regression\n"
   ]
  },
  {
   "cell_type": "code",
   "execution_count": 22,
   "metadata": {
    "collapsed": false
   },
   "outputs": [
    {
     "name": "stdout",
     "output_type": "stream",
     "text": [
      "(18.34, 17.69)\n"
     ]
    },
    {
     "name": "stderr",
     "output_type": "stream",
     "text": [
      "/Users/Mohammad/anaconda/lib/python2.7/site-packages/sklearn/linear_model/logistic.py:432: FutureWarning: Default solver will be changed to 'lbfgs' in 0.22. Specify a solver to silence this warning.\n",
      "  FutureWarning)\n",
      "/Users/Mohammad/anaconda/lib/python2.7/site-packages/sklearn/linear_model/logistic.py:459: FutureWarning: Default multi_class will be changed to 'auto' in 0.22. Specify the multi_class option to silence this warning.\n",
      "  \"this warning.\", FutureWarning)\n"
     ]
    }
   ],
   "source": [
    "logreg = LogisticRegression()\n",
    "logreg.fit(X_train, Y_train)\n",
    "Y_pred = logreg.predict(X_test)\n",
    "acc_train_logreg = round(logreg.score(X_train, Y_train) * 100, 2)\n",
    "acc_test_logreg = round(logreg.score(X_test, Y_test) * 100, 2)\n",
    "print(acc_train_logreg, acc_test_logreg)\n"
   ]
  },
  {
   "cell_type": "markdown",
   "metadata": {},
   "source": [
    "### 3. Support Vector Machines\n"
   ]
  },
  {
   "cell_type": "code",
   "execution_count": 23,
   "metadata": {
    "collapsed": false
   },
   "outputs": [
    {
     "name": "stdout",
     "output_type": "stream",
     "text": [
      "(99.75, 15.7)\n"
     ]
    },
    {
     "name": "stderr",
     "output_type": "stream",
     "text": [
      "/Users/Mohammad/anaconda/lib/python2.7/site-packages/sklearn/svm/base.py:196: FutureWarning: The default value of gamma will change from 'auto' to 'scale' in version 0.22 to account better for unscaled features. Set gamma explicitly to 'auto' or 'scale' to avoid this warning.\n",
      "  \"avoid this warning.\", FutureWarning)\n"
     ]
    }
   ],
   "source": [
    "svc = SVC()\n",
    "svc.fit(X_train, Y_train)\n",
    "Y_pred = svc.predict(X_test)\n",
    "acc_train_svc = round(svc.score(X_train, Y_train) * 100, 2)\n",
    "acc_test_svc = round(svc.score(X_test, Y_test) * 100, 2)\n",
    "print(acc_train_svc, acc_test_svc)"
   ]
  },
  {
   "cell_type": "markdown",
   "metadata": {},
   "source": [
    "### 4. KNN"
   ]
  },
  {
   "cell_type": "code",
   "execution_count": 24,
   "metadata": {
    "collapsed": false
   },
   "outputs": [
    {
     "name": "stdout",
     "output_type": "stream",
     "text": [
      "(49.73, 17.24)\n"
     ]
    }
   ],
   "source": [
    "knn = KNeighborsClassifier(n_neighbors = 3)\n",
    "knn.fit(X_train, Y_train)\n",
    "Y_pred = knn.predict(X_test)\n",
    "acc_train_knn = round(knn.score(X_train, Y_train) * 100, 2)\n",
    "acc_test_knn = round(knn.score(X_test, Y_test) * 100, 2)\n",
    "print(acc_train_knn, acc_test_knn)"
   ]
  },
  {
   "cell_type": "markdown",
   "metadata": {},
   "source": [
    "### 5. Gaussian Naive Bayes\n"
   ]
  },
  {
   "cell_type": "code",
   "execution_count": 25,
   "metadata": {
    "collapsed": false
   },
   "outputs": [
    {
     "name": "stdout",
     "output_type": "stream",
     "text": [
      "(15.87, 16.3)\n"
     ]
    }
   ],
   "source": [
    "gaussian = GaussianNB()\n",
    "gaussian.fit(X_train, Y_train)\n",
    "Y_pred = gaussian.predict(X_test)\n",
    "acc_train_gaussian = round(gaussian.score(X_train, Y_train) * 100, 2)\n",
    "acc_test_gaussian = round(gaussian.score(X_test, Y_test) * 100, 2)\n",
    "print(acc_train_gaussian, acc_test_gaussian)"
   ]
  },
  {
   "cell_type": "markdown",
   "metadata": {},
   "source": [
    "### 6. Linear SVC"
   ]
  },
  {
   "cell_type": "code",
   "execution_count": 26,
   "metadata": {
    "collapsed": false
   },
   "outputs": [
    {
     "name": "stdout",
     "output_type": "stream",
     "text": [
      "(9.91, 10.97)\n"
     ]
    },
    {
     "name": "stderr",
     "output_type": "stream",
     "text": [
      "/Users/Mohammad/anaconda/lib/python2.7/site-packages/sklearn/svm/base.py:922: ConvergenceWarning: Liblinear failed to converge, increase the number of iterations.\n",
      "  \"the number of iterations.\", ConvergenceWarning)\n"
     ]
    }
   ],
   "source": [
    "linear_svc = LinearSVC()\n",
    "linear_svc.fit(X_train, Y_train)\n",
    "Y_pred = linear_svc.predict(X_test)\n",
    "acc_train_linear_svc = round(linear_svc.score(X_train, Y_train) * 100, 2)\n",
    "acc_test_linear_svc = round(linear_svc.score(X_test, Y_test) * 100, 2)\n",
    "print(acc_train_linear_svc, acc_test_linear_svc)"
   ]
  },
  {
   "cell_type": "markdown",
   "metadata": {},
   "source": [
    "### 7. Stochastic Gradient Descent\n"
   ]
  },
  {
   "cell_type": "code",
   "execution_count": 27,
   "metadata": {
    "collapsed": false
   },
   "outputs": [
    {
     "name": "stdout",
     "output_type": "stream",
     "text": [
      "(18.27, 17.41)\n"
     ]
    },
    {
     "name": "stderr",
     "output_type": "stream",
     "text": [
      "/Users/Mohammad/anaconda/lib/python2.7/site-packages/sklearn/linear_model/stochastic_gradient.py:144: FutureWarning: max_iter and tol parameters have been added in SGDClassifier in 0.19. If both are left unset, they default to max_iter=5 and tol=None. If tol is not None, max_iter defaults to max_iter=1000. From 0.21, default max_iter will be 1000, and default tol will be 1e-3.\n",
      "  FutureWarning)\n"
     ]
    }
   ],
   "source": [
    "sgd = SGDClassifier()\n",
    "sgd.fit(X_train, Y_train)\n",
    "Y_pred = sgd.predict(X_test)\n",
    "acc_train_sgd = round(sgd.score(X_train, Y_train) * 100, 2)\n",
    "acc_test_sgd = round(sgd.score(X_test, Y_test) * 100, 2)\n",
    "print(acc_train_sgd, acc_test_sgd)"
   ]
  },
  {
   "cell_type": "markdown",
   "metadata": {},
   "source": [
    "### 8. AdaBoost Classifier\n"
   ]
  },
  {
   "cell_type": "code",
   "execution_count": 28,
   "metadata": {
    "collapsed": false
   },
   "outputs": [
    {
     "name": "stdout",
     "output_type": "stream",
     "text": [
      "(25.11, 24.34)\n"
     ]
    }
   ],
   "source": [
    "adbc = AdaBoostClassifier()\n",
    "adbc.fit(X_train, Y_train)\n",
    "Y_pred = adbc.predict(X_test)\n",
    "acc_train_adbc = round(adbc.score(X_train, Y_train) * 100, 2)\n",
    "acc_test_adbc = round(adbc.score(X_test, Y_test) * 100, 2)\n",
    "print(acc_train_adbc, acc_test_adbc)"
   ]
  },
  {
   "cell_type": "markdown",
   "metadata": {},
   "source": [
    "### 9. Gradient Boosting Classifier\n"
   ]
  },
  {
   "cell_type": "code",
   "execution_count": 29,
   "metadata": {
    "collapsed": false
   },
   "outputs": [
    {
     "name": "stdout",
     "output_type": "stream",
     "text": [
      "(98.24, 90.39)\n"
     ]
    }
   ],
   "source": [
    "gbc = GradientBoostingClassifier()\n",
    "gbc.fit(X_train, Y_train)\n",
    "Y_pred = gbc.predict(X_test)\n",
    "acc_train_gbc = round(gbc.score(X_train, Y_train) * 100, 2)\n",
    "acc_test_gbc = round(gbc.score(X_test, Y_test) * 100, 2)\n",
    "print(acc_train_gbc, acc_test_gbc)"
   ]
  },
  {
   "cell_type": "markdown",
   "metadata": {},
   "source": [
    "### 10. XGB Classifier"
   ]
  },
  {
   "cell_type": "code",
   "execution_count": 30,
   "metadata": {
    "collapsed": false
   },
   "outputs": [
    {
     "name": "stdout",
     "output_type": "stream",
     "text": [
      "(91.94, 90.77)\n"
     ]
    }
   ],
   "source": [
    "xgb = XGBClassifier() \n",
    "xgb.fit(X_train, Y_train)\n",
    "Y_pred = xgb.predict(X_test)\n",
    "acc_train_xgb = round(xgb.score(X_train, Y_train) * 100, 2)\n",
    "acc_test_xgb = round(xgb.score(X_test, Y_test) * 100, 2)\n",
    "print(acc_train_xgb, acc_test_xgb)"
   ]
  },
  {
   "cell_type": "markdown",
   "metadata": {},
   "source": [
    "### 11. Decision Tree\n"
   ]
  },
  {
   "cell_type": "code",
   "execution_count": 31,
   "metadata": {
    "collapsed": false
   },
   "outputs": [
    {
     "name": "stdout",
     "output_type": "stream",
     "text": [
      "(100.0, 85.27)\n"
     ]
    }
   ],
   "source": [
    "decision_tree = DecisionTreeClassifier()\n",
    "decision_tree.fit(X_train, Y_train)\n",
    "Y_pred = decision_tree.predict(X_test)\n",
    "acc_train_decision_tree = round(decision_tree.score(X_train, Y_train) * 100, 2)\n",
    "acc_test_decision_tree = round(decision_tree.score(X_test, Y_test) * 100, 2)\n",
    "print(acc_train_decision_tree, acc_test_decision_tree)"
   ]
  },
  {
   "cell_type": "markdown",
   "metadata": {},
   "source": [
    "### 12. Random Forest\n"
   ]
  },
  {
   "cell_type": "code",
   "execution_count": 32,
   "metadata": {
    "collapsed": false
   },
   "outputs": [
    {
     "name": "stdout",
     "output_type": "stream",
     "text": [
      "(99.95, 90.56)\n"
     ]
    }
   ],
   "source": [
    "random_forest = RandomForestClassifier(n_estimators=100)\n",
    "random_forest.fit(X_train, Y_train)\n",
    "Y_pred = random_forest.predict(X_test)\n",
    "acc_train_random_forest = round(random_forest.score(X_train, Y_train) * 100, 2)\n",
    "acc_test_random_forest = round(random_forest.score(X_test, Y_test) * 100, 2)\n",
    "print(acc_train_random_forest, acc_test_random_forest)"
   ]
  },
  {
   "cell_type": "code",
   "execution_count": 33,
   "metadata": {
    "collapsed": false
   },
   "outputs": [
    {
     "data": {
      "text/html": [
       "<div>\n",
       "<style scoped>\n",
       "    .dataframe tbody tr th:only-of-type {\n",
       "        vertical-align: middle;\n",
       "    }\n",
       "\n",
       "    .dataframe tbody tr th {\n",
       "        vertical-align: top;\n",
       "    }\n",
       "\n",
       "    .dataframe thead th {\n",
       "        text-align: right;\n",
       "    }\n",
       "</style>\n",
       "<table border=\"1\" class=\"dataframe\">\n",
       "  <thead>\n",
       "    <tr style=\"text-align: right;\">\n",
       "      <th></th>\n",
       "      <th>Model</th>\n",
       "      <th>Test Score</th>\n",
       "      <th>Training Score</th>\n",
       "    </tr>\n",
       "  </thead>\n",
       "  <tbody>\n",
       "    <tr>\n",
       "      <th>8</th>\n",
       "      <td>XGB Classifier</td>\n",
       "      <td>90.77</td>\n",
       "      <td>91.94</td>\n",
       "    </tr>\n",
       "    <tr>\n",
       "      <th>10</th>\n",
       "      <td>Random Forest</td>\n",
       "      <td>90.56</td>\n",
       "      <td>99.95</td>\n",
       "    </tr>\n",
       "    <tr>\n",
       "      <th>7</th>\n",
       "      <td>Gradient Boosting Classifier</td>\n",
       "      <td>90.39</td>\n",
       "      <td>98.24</td>\n",
       "    </tr>\n",
       "    <tr>\n",
       "      <th>9</th>\n",
       "      <td>Decision Tree</td>\n",
       "      <td>85.27</td>\n",
       "      <td>100.00</td>\n",
       "    </tr>\n",
       "    <tr>\n",
       "      <th>6</th>\n",
       "      <td>AdaBoost Classifier</td>\n",
       "      <td>24.34</td>\n",
       "      <td>25.11</td>\n",
       "    </tr>\n",
       "    <tr>\n",
       "      <th>0</th>\n",
       "      <td>Logistic Regression</td>\n",
       "      <td>17.69</td>\n",
       "      <td>18.34</td>\n",
       "    </tr>\n",
       "    <tr>\n",
       "      <th>5</th>\n",
       "      <td>Stochastic Gradient Descent</td>\n",
       "      <td>17.41</td>\n",
       "      <td>18.27</td>\n",
       "    </tr>\n",
       "    <tr>\n",
       "      <th>2</th>\n",
       "      <td>KNN</td>\n",
       "      <td>17.24</td>\n",
       "      <td>49.73</td>\n",
       "    </tr>\n",
       "    <tr>\n",
       "      <th>3</th>\n",
       "      <td>Gaussian Naive Bayes</td>\n",
       "      <td>16.30</td>\n",
       "      <td>15.87</td>\n",
       "    </tr>\n",
       "    <tr>\n",
       "      <th>1</th>\n",
       "      <td>Support Vector Machines</td>\n",
       "      <td>15.70</td>\n",
       "      <td>99.75</td>\n",
       "    </tr>\n",
       "    <tr>\n",
       "      <th>11</th>\n",
       "      <td>Dumb Classifier</td>\n",
       "      <td>14.76</td>\n",
       "      <td>13.69</td>\n",
       "    </tr>\n",
       "    <tr>\n",
       "      <th>4</th>\n",
       "      <td>Linear SVC</td>\n",
       "      <td>10.97</td>\n",
       "      <td>9.91</td>\n",
       "    </tr>\n",
       "  </tbody>\n",
       "</table>\n",
       "</div>"
      ],
      "text/plain": [
       "                           Model  Test Score  Training Score\n",
       "8                 XGB Classifier       90.77           91.94\n",
       "10                 Random Forest       90.56           99.95\n",
       "7   Gradient Boosting Classifier       90.39           98.24\n",
       "9                  Decision Tree       85.27          100.00\n",
       "6            AdaBoost Classifier       24.34           25.11\n",
       "0            Logistic Regression       17.69           18.34\n",
       "5    Stochastic Gradient Descent       17.41           18.27\n",
       "2                            KNN       17.24           49.73\n",
       "3           Gaussian Naive Bayes       16.30           15.87\n",
       "1        Support Vector Machines       15.70           99.75\n",
       "11               Dumb Classifier       14.76           13.69\n",
       "4                     Linear SVC       10.97            9.91"
      ]
     },
     "execution_count": 33,
     "metadata": {},
     "output_type": "execute_result"
    }
   ],
   "source": [
    "models = pd.DataFrame({\n",
    "    'Model': ['Logistic Regression', 'Support Vector Machines', 'KNN', 'Gaussian Naive Bayes',\n",
    "              'Linear SVC', 'Stochastic Gradient Descent', 'AdaBoost Classifier',\n",
    "              'Gradient Boosting Classifier', 'XGB Classifier', 'Decision Tree',\n",
    "              'Random Forest', 'Dumb Classifier'],\n",
    "    'Training Score': [acc_train_logreg, acc_train_svc, acc_train_knn, acc_train_gaussian, \n",
    "                       acc_train_linear_svc, acc_train_sgd, acc_train_adbc, acc_train_gbc, \n",
    "                       acc_train_xgb, acc_train_decision_tree, \n",
    "                       acc_train_random_forest, acc_train_dumb],\n",
    "        'Test Score': [acc_test_logreg, acc_test_svc, acc_test_knn, acc_test_gaussian, \n",
    "                       acc_test_linear_svc, acc_test_sgd, acc_test_adbc, acc_test_gbc, \n",
    "                       acc_test_xgb, acc_test_decision_tree, \n",
    "                       acc_test_random_forest, acc_test_dumb]\n",
    "    })\n",
    "models.sort_values(by='Test Score', ascending=False)"
   ]
  },
  {
   "cell_type": "markdown",
   "metadata": {},
   "source": [
    "In our classification task, since the number of labels is 3, one baseline approach is to choose of the 0, 1, or 2 labels randomly. This approach results in the accuracy of %33.33 for the training and test sets. A better baseline can be obtained by looking at the training set and find the most frequent label and use it for the test. We call this approach, Dumb Classifier."
   ]
  },
  {
   "cell_type": "code",
   "execution_count": null,
   "metadata": {
    "collapsed": true
   },
   "outputs": [],
   "source": []
  }
 ],
 "metadata": {
  "kernelspec": {
   "display_name": "Python 2",
   "language": "python",
   "name": "python2"
  },
  "language_info": {
   "codemirror_mode": {
    "name": "ipython",
    "version": 2
   },
   "file_extension": ".py",
   "mimetype": "text/x-python",
   "name": "python",
   "nbconvert_exporter": "python",
   "pygments_lexer": "ipython2",
   "version": "2.7.12"
  }
 },
 "nbformat": 4,
 "nbformat_minor": 0
}
