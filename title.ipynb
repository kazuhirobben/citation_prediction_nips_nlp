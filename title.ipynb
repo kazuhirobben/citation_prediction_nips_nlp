{
 "cells": [
  {
   "cell_type": "markdown",
   "metadata": {},
   "source": [
    "# Title\n",
    "\n",
    "Our goal here is to create the dictionary of `Keywords_mapping_title`, we go over the papers in the training set. For each paper, we first find the set of keywords (see below for the details of finding the keywords) of the title. Let’s say the normalized citations for this paper is $x$ and the title of this paper has $n$ keywords. Then, we update the `keyword_score` for each keyword of the title of this paper by adding $\\frac{x}{n}$.\n",
    "\n"
   ]
  },
  {
   "cell_type": "markdown",
   "metadata": {},
   "source": [
    "## Setup"
   ]
  },
  {
   "cell_type": "code",
   "execution_count": 1,
   "metadata": {
    "collapsed": true
   },
   "outputs": [],
   "source": [
    "import pandas as pd\n",
    "import numpy as np\n",
    "import operator\n",
    "from collections import OrderedDict\n",
    "from operator import itemgetter\n",
    "import unicodedata\n",
    "import timeit, time\n",
    "import scholarly\n",
    "import os, os.path\n",
    "import re\n",
    "import nltk\n",
    "from nltk.tokenize import RegexpTokenizer\n",
    "import json\n",
    "import csv\n",
    "from nltk import pos_tag\n",
    "\n",
    "def title_preprocess(text):\n",
    "    if type(text) == float:\n",
    "        text = 'a'\n",
    "    if '\\\\xc2\\\\xa0\\\\xe2\\\\x80\\\\xa6' in text:\n",
    "        text = text.replace(\"\\\\xc2\\\\xa0\\\\xe2\\\\x80\\\\xa6\", '')\n",
    "    text = text.replace('\"','').replace('“','').replace('”','').replace('“','').replace('”','')\n",
    "    \n",
    "    text2 = unicode(text, \"utf8\")  \n",
    "    text = unicodedata.normalize('NFKD',text2).encode('ascii','ignore') \n",
    "    \n",
    "    text_stripped_lower = text.strip().lower()\n",
    "    return text_stripped_lower"
   ]
  },
  {
   "cell_type": "markdown",
   "metadata": {},
   "source": [
    "## Extracting keywords:\n",
    "\n",
    "We obtain the keywords by tokenizing the title and removing punctuations from the title. For example, consider the following title “LightGBM: A Highly Efficient Gradient Boosting Decision Tree”. By considering the aforementioned step, this title would be converted to the list of words [“LightGBM”, “A”,” Highly” ,” Efficient”, “Gradient”, “Boosting”,” Decision”,” Tree”]. \n",
    "\n",
    "Next, we detect the part of speech tag of each word by utilizing NLTK package command. We then ignore words with following tags.\n",
    "1. CD cardinal digit\n",
    "2.\tCC coordinating conjunction\n",
    "3.\tDT determiner \n",
    "4.\tEX existential there\n",
    "5.\tIN preposition/subordinating conjunction\n",
    "6.\tPDT predeterminer\n",
    "7.\tPOS possessive ending\n",
    "8.\tPRP personal pronoun\n",
    "9.\tPRP\\$ possessive pronoun\n",
    "10.\tRB adverb\n",
    "11.\tRBR adverb, comparative\n",
    "12.\tRBS adverb, superlative\n",
    "13.\tRP particle\n",
    "14.\tTO\n",
    "15.\tUH interjection\n",
    "16.\tWRB wh-abverb\n",
    "17.\tWP$ possessive wh-pronoun\n",
    "18.\tWP wh-pronoun\n",
    "19.\tWDT wh-determiner\n",
    "\n",
    "Basically, we aim to only keep the words with Noun, Adj., and Verb tags as keywords. \n",
    "\n",
    "For instance, the corresponding keywords of our previous example would be \n",
    "Keywords = [“LightGBM”,” Efficient”, “Gradient”, “Boosting”,” Decision”,” Tree”]"
   ]
  },
  {
   "cell_type": "markdown",
   "metadata": {},
   "source": [
    "## Create the dictionary of keywords and their scores for training and test datesets\n"
   ]
  },
  {
   "cell_type": "markdown",
   "metadata": {},
   "source": [
    "### Import the training data"
   ]
  },
  {
   "cell_type": "code",
   "execution_count": 2,
   "metadata": {
    "collapsed": false
   },
   "outputs": [
    {
     "data": {
      "text/html": [
       "<div>\n",
       "<style scoped>\n",
       "    .dataframe tbody tr th:only-of-type {\n",
       "        vertical-align: middle;\n",
       "    }\n",
       "\n",
       "    .dataframe tbody tr th {\n",
       "        vertical-align: top;\n",
       "    }\n",
       "\n",
       "    .dataframe thead th {\n",
       "        text-align: right;\n",
       "    }\n",
       "</style>\n",
       "<table border=\"1\" class=\"dataframe\">\n",
       "  <thead>\n",
       "    <tr style=\"text-align: right;\">\n",
       "      <th></th>\n",
       "      <th>index</th>\n",
       "      <th>citations</th>\n",
       "      <th>year</th>\n",
       "      <th>Title</th>\n",
       "      <th>citations_average</th>\n",
       "    </tr>\n",
       "  </thead>\n",
       "  <tbody>\n",
       "    <tr>\n",
       "      <th>0</th>\n",
       "      <td>0</td>\n",
       "      <td>87</td>\n",
       "      <td>1987</td>\n",
       "      <td>An Optimization Network for Matrix Inversion</td>\n",
       "      <td>2.806452</td>\n",
       "    </tr>\n",
       "    <tr>\n",
       "      <th>1</th>\n",
       "      <td>3</td>\n",
       "      <td>5</td>\n",
       "      <td>1987</td>\n",
       "      <td>Centric Models of the Orientation Map in Prima...</td>\n",
       "      <td>0.161290</td>\n",
       "    </tr>\n",
       "    <tr>\n",
       "      <th>2</th>\n",
       "      <td>4</td>\n",
       "      <td>45</td>\n",
       "      <td>1987</td>\n",
       "      <td>PATTERN CLASS DEGENERACY IN AN UNRESTRICTED ST...</td>\n",
       "      <td>1.451613</td>\n",
       "    </tr>\n",
       "    <tr>\n",
       "      <th>3</th>\n",
       "      <td>6</td>\n",
       "      <td>22</td>\n",
       "      <td>1987</td>\n",
       "      <td>Learning a Color Algorithm from Examples</td>\n",
       "      <td>0.709677</td>\n",
       "    </tr>\n",
       "    <tr>\n",
       "      <th>4</th>\n",
       "      <td>8</td>\n",
       "      <td>0</td>\n",
       "      <td>1987</td>\n",
       "      <td>On Tropistic Processing and Its Applications</td>\n",
       "      <td>0.000000</td>\n",
       "    </tr>\n",
       "  </tbody>\n",
       "</table>\n",
       "</div>"
      ],
      "text/plain": [
       "   index  citations  year                                              Title  \\\n",
       "0      0         87  1987       An Optimization Network for Matrix Inversion   \n",
       "1      3          5  1987  Centric Models of the Orientation Map in Prima...   \n",
       "2      4         45  1987  PATTERN CLASS DEGENERACY IN AN UNRESTRICTED ST...   \n",
       "3      6         22  1987           Learning a Color Algorithm from Examples   \n",
       "4      8          0  1987       On Tropistic Processing and Its Applications   \n",
       "\n",
       "   citations_average  \n",
       "0           2.806452  \n",
       "1           0.161290  \n",
       "2           1.451613  \n",
       "3           0.709677  \n",
       "4           0.000000  "
      ]
     },
     "execution_count": 2,
     "metadata": {},
     "output_type": "execute_result"
    }
   ],
   "source": [
    "df_train = pd.read_csv(\"./data/data_processed/Title_training.csv\")\n",
    "\n",
    "df_train.head()"
   ]
  },
  {
   "cell_type": "code",
   "execution_count": 3,
   "metadata": {
    "collapsed": false
   },
   "outputs": [],
   "source": [
    "dic_word = {}  # e.g. \"scheme:5\"\n",
    "dic_titles = {} # e.g  \"...title...\":\"list of keywords of title\" \n",
    "ignoring_pos_tag = {'CC':0,'CD':0,'DT':0,'EX':0,'IN':0,'PRP':0,'PRP$':0,'TO':0, 'WRB':0,'WP$':0,'WP':0,'WDT':0,'VBZ':0,'VBP':0,'VBN':0,'VBG':0,'VBD':0,'VB':0,'UH':0}\n",
    "\n",
    "for i in range(0,len(df_train)):\n",
    "    title = df_train.Title[i]\n",
    "    pure_title = title_preprocess(title)\n",
    "    tokenizer = RegexpTokenizer(r'\\w+')\n",
    "    word_list = tokenizer.tokenize(pure_title)\n",
    "    ignoring_word = ['a','the','an','and','with','for','in','on','based','of', 'from', \"to\"]\n",
    "    keywords = []\n",
    "    for word in  word_list:\n",
    "        if word not in ignoring_word:\n",
    "            tag_word = nltk.tag.pos_tag([word])\n",
    "            FLAG_DO_NOT_CHK_THIS_word = False\n",
    "            for this_tag in tag_word[0][1]:\n",
    "                if this_tag in ignoring_pos_tag.keys():\n",
    "                    FLAG_DO_NOT_CHK_THIS_word = True\n",
    "                    break    \n",
    "            if FLAG_DO_NOT_CHK_THIS_word == False:\n",
    "                keywords.append(word)\n",
    "                if word not in dic_word.keys():\n",
    "                    dic_word[word] = df_train.citations_average[i]/float(len(word_list))\n",
    "                else:\n",
    "                    dic_word[word] = dic_word[word] + df_train.citations_average[i]/float(len(word_list))\n",
    "                    \n",
    "with open('./data/data_processed/json/title_keywords_dict.json', 'w') as fp:\n",
    "    json.dump(dic_word, fp)"
   ]
  },
  {
   "cell_type": "markdown",
   "metadata": {},
   "source": [
    "### Score calculation function"
   ]
  },
  {
   "cell_type": "code",
   "execution_count": 4,
   "metadata": {
    "collapsed": true
   },
   "outputs": [],
   "source": [
    "def predict(dic_word, my_string):    \n",
    "    pure_text = title_preprocess(my_string)\n",
    "    tokenizer = RegexpTokenizer(r'\\w+')\n",
    "    word_list = tokenizer.tokenize(pure_text)\n",
    "\n",
    "    N = 0 # number of extracted keywords form abstract\n",
    "    score = 0\n",
    "    for word in word_list:\n",
    "        if word in dic_word.keys():\n",
    "            score += dic_word[word]\n",
    "            N += 1\n",
    "    if score == 0:\n",
    "        return 0\n",
    "    else:\n",
    "        return score/N #averaging over number of keywords"
   ]
  },
  {
   "cell_type": "markdown",
   "metadata": {},
   "source": [
    "Below, we find the top-10 keywords of the title sorted based on their `keyword_score`:"
   ]
  },
  {
   "cell_type": "code",
   "execution_count": 5,
   "metadata": {
    "collapsed": false
   },
   "outputs": [
    {
     "data": {
      "text/html": [
       "<div>\n",
       "<style scoped>\n",
       "    .dataframe tbody tr th:only-of-type {\n",
       "        vertical-align: middle;\n",
       "    }\n",
       "\n",
       "    .dataframe tbody tr th {\n",
       "        vertical-align: top;\n",
       "    }\n",
       "\n",
       "    .dataframe thead th {\n",
       "        text-align: right;\n",
       "    }\n",
       "</style>\n",
       "<table border=\"1\" class=\"dataframe\">\n",
       "  <thead>\n",
       "    <tr style=\"text-align: right;\">\n",
       "      <th></th>\n",
       "      <th>first_column</th>\n",
       "      <th>second_column</th>\n",
       "    </tr>\n",
       "  </thead>\n",
       "  <tbody>\n",
       "    <tr>\n",
       "      <th>1823</th>\n",
       "      <td>learning</td>\n",
       "      <td>2043.384429</td>\n",
       "    </tr>\n",
       "    <tr>\n",
       "      <th>3449</th>\n",
       "      <td>networks</td>\n",
       "      <td>1505.991944</td>\n",
       "    </tr>\n",
       "    <tr>\n",
       "      <th>4165</th>\n",
       "      <td>neural</td>\n",
       "      <td>805.105671</td>\n",
       "    </tr>\n",
       "    <tr>\n",
       "      <th>2145</th>\n",
       "      <td>deep</td>\n",
       "      <td>664.126336</td>\n",
       "    </tr>\n",
       "    <tr>\n",
       "      <th>586</th>\n",
       "      <td>latent</td>\n",
       "      <td>608.495261</td>\n",
       "    </tr>\n",
       "    <tr>\n",
       "      <th>3015</th>\n",
       "      <td>dirichlet</td>\n",
       "      <td>576.266503</td>\n",
       "    </tr>\n",
       "    <tr>\n",
       "      <th>1914</th>\n",
       "      <td>allocation</td>\n",
       "      <td>535.761680</td>\n",
       "    </tr>\n",
       "    <tr>\n",
       "      <th>1525</th>\n",
       "      <td>training</td>\n",
       "      <td>492.706952</td>\n",
       "    </tr>\n",
       "    <tr>\n",
       "      <th>1988</th>\n",
       "      <td>using</td>\n",
       "      <td>466.637117</td>\n",
       "    </tr>\n",
       "    <tr>\n",
       "      <th>1093</th>\n",
       "      <td>models</td>\n",
       "      <td>443.733432</td>\n",
       "    </tr>\n",
       "  </tbody>\n",
       "</table>\n",
       "</div>"
      ],
      "text/plain": [
       "     first_column  second_column\n",
       "1823     learning    2043.384429\n",
       "3449     networks    1505.991944\n",
       "4165       neural     805.105671\n",
       "2145         deep     664.126336\n",
       "586        latent     608.495261\n",
       "3015    dirichlet     576.266503\n",
       "1914   allocation     535.761680\n",
       "1525     training     492.706952\n",
       "1988        using     466.637117\n",
       "1093       models     443.733432"
      ]
     },
     "execution_count": 5,
     "metadata": {},
     "output_type": "execute_result"
    }
   ],
   "source": [
    "df = pd.DataFrame(\n",
    "    {'first_column': dic_word.keys(),\n",
    "     'second_column': dic_word.values()\n",
    "    })\n",
    "df.sort_values(['second_column'], ascending=[0])[0:10]"
   ]
  },
  {
   "cell_type": "markdown",
   "metadata": {},
   "source": [
    "### Prediction on training\n",
    "\n",
    "Below we use our extracted keywords to predict citations for the papers in the training set."
   ]
  },
  {
   "cell_type": "code",
   "execution_count": 6,
   "metadata": {
    "collapsed": false
   },
   "outputs": [
    {
     "data": {
      "text/html": [
       "<div>\n",
       "<style scoped>\n",
       "    .dataframe tbody tr th:only-of-type {\n",
       "        vertical-align: middle;\n",
       "    }\n",
       "\n",
       "    .dataframe tbody tr th {\n",
       "        vertical-align: top;\n",
       "    }\n",
       "\n",
       "    .dataframe thead th {\n",
       "        text-align: right;\n",
       "    }\n",
       "</style>\n",
       "<table border=\"1\" class=\"dataframe\">\n",
       "  <thead>\n",
       "    <tr style=\"text-align: right;\">\n",
       "      <th></th>\n",
       "      <th>index</th>\n",
       "      <th>citations</th>\n",
       "      <th>year</th>\n",
       "      <th>Title</th>\n",
       "      <th>citations_average</th>\n",
       "      <th>predicted_citations</th>\n",
       "    </tr>\n",
       "  </thead>\n",
       "  <tbody>\n",
       "    <tr>\n",
       "      <th>0</th>\n",
       "      <td>0</td>\n",
       "      <td>87</td>\n",
       "      <td>1987</td>\n",
       "      <td>An Optimization Network for Matrix Inversion</td>\n",
       "      <td>2.806452</td>\n",
       "      <td>180.902423</td>\n",
       "    </tr>\n",
       "    <tr>\n",
       "      <th>1</th>\n",
       "      <td>3</td>\n",
       "      <td>5</td>\n",
       "      <td>1987</td>\n",
       "      <td>Centric Models of the Orientation Map in Prima...</td>\n",
       "      <td>0.161290</td>\n",
       "      <td>96.113563</td>\n",
       "    </tr>\n",
       "    <tr>\n",
       "      <th>2</th>\n",
       "      <td>4</td>\n",
       "      <td>45</td>\n",
       "      <td>1987</td>\n",
       "      <td>PATTERN CLASS DEGENERACY IN AN UNRESTRICTED ST...</td>\n",
       "      <td>1.451613</td>\n",
       "      <td>24.349512</td>\n",
       "    </tr>\n",
       "    <tr>\n",
       "      <th>3</th>\n",
       "      <td>6</td>\n",
       "      <td>22</td>\n",
       "      <td>1987</td>\n",
       "      <td>Learning a Color Algorithm from Examples</td>\n",
       "      <td>0.709677</td>\n",
       "      <td>537.814055</td>\n",
       "    </tr>\n",
       "    <tr>\n",
       "      <th>4</th>\n",
       "      <td>8</td>\n",
       "      <td>0</td>\n",
       "      <td>1987</td>\n",
       "      <td>On Tropistic Processing and Its Applications</td>\n",
       "      <td>0.000000</td>\n",
       "      <td>16.038629</td>\n",
       "    </tr>\n",
       "  </tbody>\n",
       "</table>\n",
       "</div>"
      ],
      "text/plain": [
       "   index  citations  year                                              Title  \\\n",
       "0      0         87  1987       An Optimization Network for Matrix Inversion   \n",
       "1      3          5  1987  Centric Models of the Orientation Map in Prima...   \n",
       "2      4         45  1987  PATTERN CLASS DEGENERACY IN AN UNRESTRICTED ST...   \n",
       "3      6         22  1987           Learning a Color Algorithm from Examples   \n",
       "4      8          0  1987       On Tropistic Processing and Its Applications   \n",
       "\n",
       "   citations_average  predicted_citations  \n",
       "0           2.806452           180.902423  \n",
       "1           0.161290            96.113563  \n",
       "2           1.451613            24.349512  \n",
       "3           0.709677           537.814055  \n",
       "4           0.000000            16.038629  "
      ]
     },
     "execution_count": 6,
     "metadata": {},
     "output_type": "execute_result"
    }
   ],
   "source": [
    "with open('./data/data_processed/json/title_keywords_dict.json') as f:\n",
    "        data_dict = json.load(f)\n",
    "\n",
    "df_train['predicted_citations'] = df_train['Title'].apply(lambda x: predict(data_dict, x))\n",
    "df_train.head()"
   ]
  },
  {
   "cell_type": "markdown",
   "metadata": {},
   "source": [
    "### Calculate correlation between citations_average and predicted_citations"
   ]
  },
  {
   "cell_type": "code",
   "execution_count": 7,
   "metadata": {
    "collapsed": false
   },
   "outputs": [
    {
     "data": {
      "text/plain": [
       "0.1412783978472654"
      ]
     },
     "execution_count": 7,
     "metadata": {},
     "output_type": "execute_result"
    }
   ],
   "source": [
    "df_train.citations_average.corr(df_train.predicted_citations)"
   ]
  },
  {
   "cell_type": "markdown",
   "metadata": {},
   "source": [
    "## Save the training data with predicated values"
   ]
  },
  {
   "cell_type": "code",
   "execution_count": 8,
   "metadata": {
    "collapsed": true
   },
   "outputs": [],
   "source": [
    "df_train.to_csv('./data/data_processed/Title_training_predicted.csv', index=False)"
   ]
  },
  {
   "cell_type": "markdown",
   "metadata": {},
   "source": [
    "\n",
    "## Import the test data"
   ]
  },
  {
   "cell_type": "code",
   "execution_count": 9,
   "metadata": {
    "collapsed": false
   },
   "outputs": [
    {
     "data": {
      "text/html": [
       "<div>\n",
       "<style scoped>\n",
       "    .dataframe tbody tr th:only-of-type {\n",
       "        vertical-align: middle;\n",
       "    }\n",
       "\n",
       "    .dataframe tbody tr th {\n",
       "        vertical-align: top;\n",
       "    }\n",
       "\n",
       "    .dataframe thead th {\n",
       "        text-align: right;\n",
       "    }\n",
       "</style>\n",
       "<table border=\"1\" class=\"dataframe\">\n",
       "  <thead>\n",
       "    <tr style=\"text-align: right;\">\n",
       "      <th></th>\n",
       "      <th>index</th>\n",
       "      <th>citations</th>\n",
       "      <th>year</th>\n",
       "      <th>Title</th>\n",
       "      <th>citations_average</th>\n",
       "    </tr>\n",
       "  </thead>\n",
       "  <tbody>\n",
       "    <tr>\n",
       "      <th>0</th>\n",
       "      <td>1</td>\n",
       "      <td>94</td>\n",
       "      <td>1987</td>\n",
       "      <td>Minkowski-r Back-Propagation: Learning in Conn...</td>\n",
       "      <td>3.032258</td>\n",
       "    </tr>\n",
       "    <tr>\n",
       "      <th>1</th>\n",
       "      <td>2</td>\n",
       "      <td>1</td>\n",
       "      <td>1987</td>\n",
       "      <td>Optimal Neural Spike Classification</td>\n",
       "      <td>0.032258</td>\n",
       "    </tr>\n",
       "    <tr>\n",
       "      <th>2</th>\n",
       "      <td>5</td>\n",
       "      <td>66</td>\n",
       "      <td>1987</td>\n",
       "      <td>Learning on a General Network</td>\n",
       "      <td>2.129032</td>\n",
       "    </tr>\n",
       "    <tr>\n",
       "      <th>3</th>\n",
       "      <td>7</td>\n",
       "      <td>73</td>\n",
       "      <td>1987</td>\n",
       "      <td>A Dynamical Approach to Temporal Pattern Proce...</td>\n",
       "      <td>2.354839</td>\n",
       "    </tr>\n",
       "    <tr>\n",
       "      <th>4</th>\n",
       "      <td>9</td>\n",
       "      <td>252</td>\n",
       "      <td>1987</td>\n",
       "      <td>Supervised Learning of Probability Distributio...</td>\n",
       "      <td>8.129032</td>\n",
       "    </tr>\n",
       "  </tbody>\n",
       "</table>\n",
       "</div>"
      ],
      "text/plain": [
       "   index  citations  year                                              Title  \\\n",
       "0      1         94  1987  Minkowski-r Back-Propagation: Learning in Conn...   \n",
       "1      2          1  1987                Optimal Neural Spike Classification   \n",
       "2      5         66  1987                      Learning on a General Network   \n",
       "3      7         73  1987  A Dynamical Approach to Temporal Pattern Proce...   \n",
       "4      9        252  1987  Supervised Learning of Probability Distributio...   \n",
       "\n",
       "   citations_average  \n",
       "0           3.032258  \n",
       "1           0.032258  \n",
       "2           2.129032  \n",
       "3           2.354839  \n",
       "4           8.129032  "
      ]
     },
     "execution_count": 9,
     "metadata": {},
     "output_type": "execute_result"
    }
   ],
   "source": [
    "df_test = pd.read_csv(\"./data/data_processed/Title_test.csv\")[0:]\n",
    "\n",
    "df_test.head()"
   ]
  },
  {
   "cell_type": "markdown",
   "metadata": {},
   "source": [
    "### Prediction on test"
   ]
  },
  {
   "cell_type": "code",
   "execution_count": 10,
   "metadata": {
    "collapsed": false
   },
   "outputs": [
    {
     "data": {
      "text/html": [
       "<div>\n",
       "<style scoped>\n",
       "    .dataframe tbody tr th:only-of-type {\n",
       "        vertical-align: middle;\n",
       "    }\n",
       "\n",
       "    .dataframe tbody tr th {\n",
       "        vertical-align: top;\n",
       "    }\n",
       "\n",
       "    .dataframe thead th {\n",
       "        text-align: right;\n",
       "    }\n",
       "</style>\n",
       "<table border=\"1\" class=\"dataframe\">\n",
       "  <thead>\n",
       "    <tr style=\"text-align: right;\">\n",
       "      <th></th>\n",
       "      <th>index</th>\n",
       "      <th>citations</th>\n",
       "      <th>year</th>\n",
       "      <th>Title</th>\n",
       "      <th>citations_average</th>\n",
       "      <th>predicted_citations</th>\n",
       "    </tr>\n",
       "  </thead>\n",
       "  <tbody>\n",
       "    <tr>\n",
       "      <th>0</th>\n",
       "      <td>1</td>\n",
       "      <td>94</td>\n",
       "      <td>1987</td>\n",
       "      <td>Minkowski-r Back-Propagation: Learning in Conn...</td>\n",
       "      <td>3.032258</td>\n",
       "      <td>342.188738</td>\n",
       "    </tr>\n",
       "    <tr>\n",
       "      <th>1</th>\n",
       "      <td>2</td>\n",
       "      <td>1</td>\n",
       "      <td>1987</td>\n",
       "      <td>Optimal Neural Spike Classification</td>\n",
       "      <td>0.032258</td>\n",
       "      <td>306.043302</td>\n",
       "    </tr>\n",
       "    <tr>\n",
       "      <th>2</th>\n",
       "      <td>5</td>\n",
       "      <td>66</td>\n",
       "      <td>1987</td>\n",
       "      <td>Learning on a General Network</td>\n",
       "      <td>2.129032</td>\n",
       "      <td>763.662084</td>\n",
       "    </tr>\n",
       "    <tr>\n",
       "      <th>3</th>\n",
       "      <td>7</td>\n",
       "      <td>73</td>\n",
       "      <td>1987</td>\n",
       "      <td>A Dynamical Approach to Temporal Pattern Proce...</td>\n",
       "      <td>2.354839</td>\n",
       "      <td>34.610457</td>\n",
       "    </tr>\n",
       "    <tr>\n",
       "      <th>4</th>\n",
       "      <td>9</td>\n",
       "      <td>252</td>\n",
       "      <td>1987</td>\n",
       "      <td>Supervised Learning of Probability Distributio...</td>\n",
       "      <td>8.129032</td>\n",
       "      <td>698.882140</td>\n",
       "    </tr>\n",
       "  </tbody>\n",
       "</table>\n",
       "</div>"
      ],
      "text/plain": [
       "   index  citations  year                                              Title  \\\n",
       "0      1         94  1987  Minkowski-r Back-Propagation: Learning in Conn...   \n",
       "1      2          1  1987                Optimal Neural Spike Classification   \n",
       "2      5         66  1987                      Learning on a General Network   \n",
       "3      7         73  1987  A Dynamical Approach to Temporal Pattern Proce...   \n",
       "4      9        252  1987  Supervised Learning of Probability Distributio...   \n",
       "\n",
       "   citations_average  predicted_citations  \n",
       "0           3.032258           342.188738  \n",
       "1           0.032258           306.043302  \n",
       "2           2.129032           763.662084  \n",
       "3           2.354839            34.610457  \n",
       "4           8.129032           698.882140  "
      ]
     },
     "execution_count": 10,
     "metadata": {},
     "output_type": "execute_result"
    }
   ],
   "source": [
    "df_test['predicted_citations'] = df_test['Title'].apply(lambda x: predict(data_dict, x) if(pd.notnull(x)) else x)\n",
    "df_test.head()"
   ]
  },
  {
   "cell_type": "markdown",
   "metadata": {},
   "source": [
    "### Calculate correlation between citations_average and predicted_citations\n"
   ]
  },
  {
   "cell_type": "code",
   "execution_count": 11,
   "metadata": {
    "collapsed": false
   },
   "outputs": [
    {
     "data": {
      "text/plain": [
       "0.06332553159923121"
      ]
     },
     "execution_count": 11,
     "metadata": {},
     "output_type": "execute_result"
    }
   ],
   "source": [
    "df_test.citations_average.corr(df_test.predicted_citations)"
   ]
  },
  {
   "cell_type": "markdown",
   "metadata": {},
   "source": [
    "### Save the test data with predicated values"
   ]
  },
  {
   "cell_type": "code",
   "execution_count": 12,
   "metadata": {
    "collapsed": true
   },
   "outputs": [],
   "source": [
    "df_test.to_csv('./data/data_processed/Title_test_predicted.csv', index=False)"
   ]
  }
 ],
 "metadata": {
  "kernelspec": {
   "display_name": "Python 2",
   "language": "python",
   "name": "python2"
  },
  "language_info": {
   "codemirror_mode": {
    "name": "ipython",
    "version": 2
   },
   "file_extension": ".py",
   "mimetype": "text/x-python",
   "name": "python",
   "nbconvert_exporter": "python",
   "pygments_lexer": "ipython2",
   "version": "2.7.12"
  }
 },
 "nbformat": 4,
 "nbformat_minor": 1
}
