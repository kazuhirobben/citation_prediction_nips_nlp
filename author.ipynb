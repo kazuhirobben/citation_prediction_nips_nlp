{
 "cells": [
  {
   "cell_type": "markdown",
   "metadata": {},
   "source": [
    "# Author\n",
    "\n",
    "In order to create the dictionary of `Authors_mapping`, we go over the papers in the training set. For each paper and for each author of this paper, we add the normalized citations (that is, the average number of citations per year) for this paper to the `author_score` for this author. There are total number of 8494  unique authors in our training set."
   ]
  },
  {
   "cell_type": "markdown",
   "metadata": {},
   "source": [
    "## Setup"
   ]
  },
  {
   "cell_type": "code",
   "execution_count": 8,
   "metadata": {
    "collapsed": true
   },
   "outputs": [],
   "source": [
    "import pandas as pd\n",
    "import numpy as np\n",
    "import re\n",
    "import nltk\n",
    "import string\n",
    "import unicodedata\n",
    "import spacy\n",
    "from spacy import displacy\n",
    "from collections import Counter\n",
    "import en_core_web_sm\n",
    "import json\n",
    "\n",
    "CURRENT_YEAR = 2018\n",
    "\n",
    "class MyDF(object):\n",
    "    \n",
    "    def __init__(self, path, name):\n",
    "        self.name = name\n",
    "        self.df = pd.read_csv(path)\n",
    "        self.df_orig = self.df.copy()\n",
    "        self.drop_redundant_columns()\n",
    "        self.max_num_names = len(self.df.columns) -1\n",
    "        self.make_all_object()\n",
    "        self.num_non_nan = self.count_non_nan()\n",
    "        self.list_unique_non_nan = self.list_unique_non_nan()\n",
    "        self.num_unique_non_nan = len(self.list_unique_non_nan)\n",
    "    \n",
    "    def drop_redundant_columns(self):\n",
    "        self.df = self.df.drop('year', axis=1)\n",
    "        self.df = self.df.drop('index', axis=1)\n",
    "        self.df = self.df.drop('citations', axis=1)\n",
    "        \n",
    "    def make_all_object(self):\n",
    "        for i in range(0,self.max_num_names):\n",
    "            self.df[self.name + '{x}'.format(x=i)] = self.df[self.name + '{x}'.format(x=i)].astype(object)\n",
    "        \n",
    "    def list_unique_non_nan(self):\n",
    "        return pd.concat([self.df[self.name + '{x}'.format(x=i)] for i in range(0,self.max_num_names) ]).dropna().unique().tolist()\n",
    "    \n",
    "    def count_non_nan(self):\n",
    "        return pd.concat([self.df[self.name + '{x}'.format(x=i)] for i in range(0,self.max_num_names) ]).dropna().count()\n",
    "       \n",
    "    def making_name_score_df(self):\n",
    "        df_copy = self.df.copy()\n",
    "        # keep index as index, stack other columns 'against' it\n",
    "        stacked = df_copy.set_index('citations_average').stack()\n",
    "        # set the name of the new series created\n",
    "        df_temp = stacked.reset_index(name=self.name)\n",
    "        # drop the 'source' level (key.*)\n",
    "        df_temp.drop('level_1', axis=1, inplace=True)\n",
    "        \n",
    "        unique_names = df_temp[self.name].unique()\n",
    "        names_score = []\n",
    "        for name in unique_names:\n",
    "            names_score.append(df_temp.loc[df_temp[self.name] == name]['citations_average'].sum())\n",
    "        \n",
    "        table = [unique_names, names_score]\n",
    "        output_df = pd.DataFrame(table)\n",
    "        output_df = output_df.transpose()\n",
    "        output_df.columns=[self.name, 'Score']\n",
    "        \n",
    "        output_dict = dict(zip(unique_names, names_score))\n",
    "        \n",
    "        return [output_df, output_dict]\n",
    "    \n",
    "    def polish_data(self, target):\n",
    "        \n",
    "        df_processed = self.df\n",
    "        for n in self.list_unique_non_nan:\n",
    "            score = target.loc[target[self.name] == n]['Score'].sum()\n",
    "            df_processed = df_processed.replace(n, score)\n",
    "            \n",
    "        df_processed['predicted_citations']= df_processed.iloc[:, 2:self.max_num_names+2].sum(axis=1)\n",
    "        return df_processed"
   ]
  },
  {
   "cell_type": "markdown",
   "metadata": {},
   "source": [
    "## Create the dataframe of authors and their scores for all authors in the training set\n",
    "\n"
   ]
  },
  {
   "cell_type": "code",
   "execution_count": 9,
   "metadata": {
    "collapsed": false
   },
   "outputs": [],
   "source": [
    "df_author_training = MyDF(\"./data/data_processed/Author_training.csv\", \"Author\")\n",
    "[df_author_score, dict_author_score] = df_author_training.making_name_score_df()"
   ]
  },
  {
   "cell_type": "code",
   "execution_count": 10,
   "metadata": {
    "collapsed": true
   },
   "outputs": [],
   "source": [
    "with open(\"./data/data_processed/json/Authors_score.json\", \"w\") as fp:\n",
    "    json.dump(dict_author_score , fp)"
   ]
  },
  {
   "cell_type": "markdown",
   "metadata": {},
   "source": [
    "Below we indicate the top-10 authors sorted based on their author_score."
   ]
  },
  {
   "cell_type": "code",
   "execution_count": 11,
   "metadata": {
    "collapsed": false
   },
   "outputs": [
    {
     "data": {
      "text/html": [
       "<div>\n",
       "<style scoped>\n",
       "    .dataframe tbody tr th:only-of-type {\n",
       "        vertical-align: middle;\n",
       "    }\n",
       "\n",
       "    .dataframe tbody tr th {\n",
       "        vertical-align: top;\n",
       "    }\n",
       "\n",
       "    .dataframe thead th {\n",
       "        text-align: right;\n",
       "    }\n",
       "</style>\n",
       "<table border=\"1\" class=\"dataframe\">\n",
       "  <thead>\n",
       "    <tr style=\"text-align: right;\">\n",
       "      <th></th>\n",
       "      <th>Author</th>\n",
       "      <th>Score</th>\n",
       "    </tr>\n",
       "  </thead>\n",
       "  <tbody>\n",
       "    <tr>\n",
       "      <th>3118</th>\n",
       "      <td>Ilya Sutskever</td>\n",
       "      <td>3996.55</td>\n",
       "    </tr>\n",
       "    <tr>\n",
       "      <th>248</th>\n",
       "      <td>Michael I. Jordan</td>\n",
       "      <td>2817.29</td>\n",
       "    </tr>\n",
       "    <tr>\n",
       "      <th>1747</th>\n",
       "      <td>David M. Blei</td>\n",
       "      <td>2466.64</td>\n",
       "    </tr>\n",
       "    <tr>\n",
       "      <th>1478</th>\n",
       "      <td>Andrew Y. Ng</td>\n",
       "      <td>2464.47</td>\n",
       "    </tr>\n",
       "    <tr>\n",
       "      <th>4051</th>\n",
       "      <td>Oriol Vinyals</td>\n",
       "      <td>2109.08</td>\n",
       "    </tr>\n",
       "    <tr>\n",
       "      <th>4656</th>\n",
       "      <td>Tomas Mikolov</td>\n",
       "      <td>2103.4</td>\n",
       "    </tr>\n",
       "    <tr>\n",
       "      <th>4659</th>\n",
       "      <td>Jeff Dean</td>\n",
       "      <td>2043.4</td>\n",
       "    </tr>\n",
       "    <tr>\n",
       "      <th>4657</th>\n",
       "      <td>Kai Chen</td>\n",
       "      <td>2043.4</td>\n",
       "    </tr>\n",
       "    <tr>\n",
       "      <th>4658</th>\n",
       "      <td>Greg S. Corrado</td>\n",
       "      <td>2043.4</td>\n",
       "    </tr>\n",
       "    <tr>\n",
       "      <th>3447</th>\n",
       "      <td>Xi Chen</td>\n",
       "      <td>1792.88</td>\n",
       "    </tr>\n",
       "  </tbody>\n",
       "</table>\n",
       "</div>"
      ],
      "text/plain": [
       "                 Author    Score\n",
       "3118     Ilya Sutskever  3996.55\n",
       "248   Michael I. Jordan  2817.29\n",
       "1747      David M. Blei  2466.64\n",
       "1478       Andrew Y. Ng  2464.47\n",
       "4051      Oriol Vinyals  2109.08\n",
       "4656      Tomas Mikolov   2103.4\n",
       "4659          Jeff Dean   2043.4\n",
       "4657           Kai Chen   2043.4\n",
       "4658    Greg S. Corrado   2043.4\n",
       "3447            Xi Chen  1792.88"
      ]
     },
     "execution_count": 11,
     "metadata": {},
     "output_type": "execute_result"
    }
   ],
   "source": [
    "df_author_score.sort_values(['Score'], ascending=[0])[0:10]"
   ]
  },
  {
   "cell_type": "markdown",
   "metadata": {},
   "source": [
    "### Correlation between citations and score_mean in Training for Authors\n"
   ]
  },
  {
   "cell_type": "code",
   "execution_count": 12,
   "metadata": {
    "collapsed": false
   },
   "outputs": [
    {
     "data": {
      "text/plain": [
       "0.48684344424383963"
      ]
     },
     "execution_count": 12,
     "metadata": {},
     "output_type": "execute_result"
    }
   ],
   "source": [
    "train_authors_df = df_author_training.polish_data(df_author_score)\n",
    "\n",
    "train_authors_df.citations_average.corr(train_authors_df.predicted_citations)"
   ]
  },
  {
   "cell_type": "markdown",
   "metadata": {},
   "source": [
    "### Save the training data with predicated values"
   ]
  },
  {
   "cell_type": "code",
   "execution_count": 13,
   "metadata": {
    "collapsed": false
   },
   "outputs": [],
   "source": [
    "train_authors_df.to_csv('./data/data_processed/Author_training_predicted.csv', index=False)"
   ]
  },
  {
   "cell_type": "markdown",
   "metadata": {},
   "source": [
    "## Create the dataframe of authors and their scores for all authors in the test set\n"
   ]
  },
  {
   "cell_type": "code",
   "execution_count": 14,
   "metadata": {
    "collapsed": true
   },
   "outputs": [],
   "source": [
    "df_author_test = MyDF(\"./data/data_processed/Author_test.csv\", \"Author\")\n",
    "test_authors_df = df_author_test.polish_data(df_author_score)"
   ]
  },
  {
   "cell_type": "markdown",
   "metadata": {},
   "source": [
    "### Correlation between citations and score_mean in Test for Authors\n"
   ]
  },
  {
   "cell_type": "code",
   "execution_count": 15,
   "metadata": {
    "collapsed": false
   },
   "outputs": [
    {
     "data": {
      "text/plain": [
       "0.3646282301669749"
      ]
     },
     "execution_count": 15,
     "metadata": {},
     "output_type": "execute_result"
    }
   ],
   "source": [
    "test_authors_df.citations_average.corr(test_authors_df.predicted_citations)"
   ]
  },
  {
   "cell_type": "markdown",
   "metadata": {},
   "source": [
    "### Save the test data with predicated values"
   ]
  },
  {
   "cell_type": "code",
   "execution_count": 16,
   "metadata": {
    "collapsed": true
   },
   "outputs": [],
   "source": [
    "test_authors_df.to_csv('./data/data_processed/Author_test_predicted.csv', index=False)"
   ]
  },
  {
   "cell_type": "code",
   "execution_count": null,
   "metadata": {
    "collapsed": true
   },
   "outputs": [],
   "source": []
  }
 ],
 "metadata": {
  "kernelspec": {
   "display_name": "Python 2",
   "language": "python",
   "name": "python2"
  },
  "language_info": {
   "codemirror_mode": {
    "name": "ipython",
    "version": 2
   },
   "file_extension": ".py",
   "mimetype": "text/x-python",
   "name": "python",
   "nbconvert_exporter": "python",
   "pygments_lexer": "ipython2",
   "version": "2.7.12"
  }
 },
 "nbformat": 4,
 "nbformat_minor": 0
}
